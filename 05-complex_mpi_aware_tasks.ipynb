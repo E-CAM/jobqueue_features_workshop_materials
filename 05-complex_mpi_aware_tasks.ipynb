{
 "cells": [
  {
   "cell_type": "markdown",
   "metadata": {},
   "source": [
    "# Example of a complex environment for an MPI-aware task"
   ]
  },
  {
   "cell_type": "code",
   "execution_count": null,
   "metadata": {},
   "outputs": [],
   "source": [
    "import sys\n",
    "from jobqueue_features.clusters import CustomSLURMCluster\n",
    "from jobqueue_features.decorators import on_cluster, mpi_task\n",
    "from jobqueue_features.mpi_wrapper import SRUN"
   ]
  },
  {
   "cell_type": "markdown",
   "metadata": {},
   "source": [
    "## Simplify getting environment\n",
    "Let's use a feature of Lmod that allows us to restore a saved environment with\n",
    "```bash\n",
    "module restore <module_set>\n",
    "```\n",
    "The big plus of this is that we can maintain this environment separately to our python code."
   ]
  },
  {
   "cell_type": "code",
   "execution_count": null,
   "metadata": {},
   "outputs": [],
   "source": [
    "lammps_cluster = CustomSLURMCluster(\n",
    "    name=\"LAMMPS_cluster\",\n",
    "    walltime=\"00:05:00\",\n",
    "    queue = \"devel\",\n",
    "    nodes=2,\n",
    "    ntasks_per_node=12,\n",
    "    mpi_mode=True,\n",
    "    mpi_launcher=SRUN,\n",
    "    maximum_scale=2,\n",
    "    env_extra=[\n",
    "        \"module restore jobqueue_tutorial\",\n",
    "    ],\n",
    ")"
   ]
  },
  {
   "cell_type": "markdown",
   "metadata": {},
   "source": [
    "# Run a task for some time on the remote resources\n",
    "Be careful to remember that you only have access to the memory space of the root MPI process"
   ]
  },
  {
   "cell_type": "code",
   "execution_count": null,
   "metadata": {},
   "outputs": [],
   "source": [
    "@mpi_task(cluster_id=lammps_cluster.name)\n",
    "def task(input_file=None, run_steps=100):\n",
    "    from mpi4py import MPI\n",
    "    from lammps import PyLammps\n",
    "\n",
    "\n",
    "    L = PyLammps()\n",
    "    if input_file:\n",
    "        L.file(input_file)\n",
    "    else:\n",
    "        L.file(\"/p/project/cecam/shared/in.melt\")\n",
    "\n",
    "    comm = MPI.COMM_WORLD\n",
    "    rank = comm.Get_rank()\n",
    "    # This only appears in the slurm job output\n",
    "    return_string = \"Hi, my rank is %d\" % rank\n",
    "\n",
    "    # Simulate the system for a few steps\n",
    "    L.run(run_steps)\n",
    "    \n",
    "    if rank==0:\n",
    "        return_string = \"Potential energy: %s\" % L.eval(\"pe\")\n",
    "\n",
    "    # The flush is required to ensure that the print statements appear in the job log\n",
    "    # files\n",
    "    print(return_string)\n",
    "    sys.stdout.flush()\n",
    "\n",
    "    return return_string"
   ]
  },
  {
   "cell_type": "code",
   "execution_count": null,
   "metadata": {},
   "outputs": [],
   "source": [
    "@on_cluster(cluster=lammps_cluster, cluster_id=lammps_cluster.name)\n",
    "def main(input_file=None, run_steps=100):\n",
    "    t1 = task(input_file=input_file, run_steps=run_steps)\n",
    "    print(t1.result())"
   ]
  },
  {
   "cell_type": "code",
   "execution_count": null,
   "metadata": {},
   "outputs": [],
   "source": [
    "import logging\n",
    "\n",
    "logging.basicConfig(format=\"%(levelname)s:%(message)s\", level=logging.DEBUG)"
   ]
  },
  {
   "cell_type": "code",
   "execution_count": null,
   "metadata": {},
   "outputs": [],
   "source": [
    "main(input_file=\"/p/project/cecam/shared/in.melt\", run_steps=1000)"
   ]
  },
  {
   "cell_type": "code",
   "execution_count": null,
   "metadata": {},
   "outputs": [],
   "source": [
    "!squeue -u $USER -l"
   ]
  },
  {
   "cell_type": "markdown",
   "metadata": {},
   "source": [
    "Check the joblogs to see that LAMMPS doesn't appear to be a well behaved task in this case (or Dask needs some help to tolerate it's bad behaviour)"
   ]
  },
  {
   "cell_type": "code",
   "execution_count": null,
   "metadata": {},
   "outputs": [],
   "source": []
  }
 ],
 "metadata": {
  "kernelspec": {
   "display_name": "jobqueue",
   "language": "python",
   "name": "jobqueue"
  },
  "language_info": {
   "codemirror_mode": {
    "name": "ipython",
    "version": 3
   },
   "file_extension": ".py",
   "mimetype": "text/x-python",
   "name": "python",
   "nbconvert_exporter": "python",
   "pygments_lexer": "ipython3",
   "version": "3.6.8"
  }
 },
 "nbformat": 4,
 "nbformat_minor": 2
}
