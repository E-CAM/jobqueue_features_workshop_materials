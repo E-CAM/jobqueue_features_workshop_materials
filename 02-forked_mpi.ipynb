{
 "cells": [
  {
   "cell_type": "markdown",
   "metadata": {},
   "source": [
    "# Forking out command line MPI tasks\n",
    "Imagine I have a workflow that requires me to run an MPI executable (e.g., `mpiexec -n 4 <my_executable>`) and process the result. We can do that via the use of the `mpi_wrap()` function from the library, such that Dask manages the MPI runtime task that launches the job.\n",
    "`mpi_wrap()` returns a dictionary:\n",
    "```python\n",
    "{\n",
    "    \"cmd\": cmd_launched, \n",
    "    \"out\": stdout_output, \n",
    "    \"err\": stderr_output\n",
    "}\n",
    "```\n",
    "This (currently) requires a little boilerplate code to work as one might expect (see the example below).\n",
    "\n",
    "## Interacting with the task\n",
    "If you need to grab information from the executed task, you can either do something to parse this dictionary, or interact with the executed task via the file system (i.e., read a result file)."
   ]
  },
  {
   "cell_type": "code",
   "execution_count": null,
   "metadata": {},
   "outputs": [],
   "source": [
    "import os\n",
    "from jobqueue_features.clusters import CustomSLURMCluster\n",
    "from jobqueue_features.decorators import on_cluster, mpi_task\n",
    "from jobqueue_features.mpi_wrapper import mpi_wrap\n",
    "from jobqueue_features.functions import set_default_cluster"
   ]
  },
  {
   "cell_type": "code",
   "execution_count": null,
   "metadata": {},
   "outputs": [],
   "source": [
    "set_default_cluster(CustomSLURMCluster)"
   ]
  },
  {
   "cell_type": "markdown",
   "metadata": {},
   "source": [
    "This time when we declare our cluster we need to add a few additional keyword arguments:\n",
    "* `mpi_mode` to let it know the cluster will use MPI\n",
    "* `fork_mpi`, to indicate that we will be forking MPI processes\n",
    "* `nodes` to indicate how much resources we want use (there are many other options here)"
   ]
  },
  {
   "cell_type": "code",
   "execution_count": null,
   "metadata": {},
   "outputs": [],
   "source": [
    "custom_cluster = CustomSLURMCluster(\n",
    "    name=\"mpiCluster\",\n",
    "    mpi_mode=True,\n",
    "    fork_mpi=True,\n",
    "    nodes=2,\n",
    ")"
   ]
  },
  {
   "cell_type": "code",
   "execution_count": null,
   "metadata": {},
   "outputs": [],
   "source": [
    "custom_cluster"
   ]
  },
  {
   "cell_type": "markdown",
   "metadata": {},
   "source": [
    "We need boilerplate code because our decorators insert some kwargs (that define things like the number of processes) that are required for `mpi_wrap` to execute the task"
   ]
  },
  {
   "cell_type": "code",
   "execution_count": null,
   "metadata": {},
   "outputs": [],
   "source": [
    "@on_cluster(cluster=custom_cluster)\n",
    "@mpi_task(cluster=custom_cluster)\n",
    "def mpi_wrap_task(**kwargs):\n",
    "    return mpi_wrap(**kwargs)"
   ]
  },
  {
   "cell_type": "markdown",
   "metadata": {},
   "source": [
    "And now we can use our newly created function `mpi_wrap_task()` in the same way we would use `mpi_wrap()`"
   ]
  },
  {
   "cell_type": "code",
   "execution_count": null,
   "metadata": {},
   "outputs": [],
   "source": [
    "def forked_mpi():\n",
    "    script_path = os.path.join(\"resources\", \"helloworld.py\")\n",
    "    t = mpi_wrap_task(\n",
    "        executable=\"python\", \n",
    "        exec_args=script_path\n",
    "    )\n",
    "    print(\"Ran\\n\\t\", t.result()[\"cmd\"])\n",
    "    result = t.result()[\"out\"]\n",
    "    # Need to decode the output string so it is easily printed\n",
    "    return result.decode('UTF-8')"
   ]
  },
  {
   "cell_type": "code",
   "execution_count": null,
   "metadata": {},
   "outputs": [],
   "source": [
    "result = forked_mpi()"
   ]
  },
  {
   "cell_type": "code",
   "execution_count": null,
   "metadata": {},
   "outputs": [],
   "source": [
    "print(result)"
   ]
  }
 ],
 "metadata": {
  "kernelspec": {
   "display_name": "Python 3",
   "language": "python",
   "name": "python3"
  },
  "language_info": {
   "codemirror_mode": {
    "name": "ipython",
    "version": 3
   },
   "file_extension": ".py",
   "mimetype": "text/x-python",
   "name": "python",
   "nbconvert_exporter": "python",
   "pygments_lexer": "ipython3",
   "version": "3.8.5"
  }
 },
 "nbformat": 4,
 "nbformat_minor": 4
}
