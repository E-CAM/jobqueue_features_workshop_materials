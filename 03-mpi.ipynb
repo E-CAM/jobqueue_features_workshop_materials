{
 "cells": [
  {
   "cell_type": "markdown",
   "metadata": {},
   "source": [
    "# MPI-aware tasks\n",
    "Hopefully we are able to use tasks that act like MPI-aware libraries so that we can directly access the memory-space of the tasks (and avoid the file-system). In this case the tasks will execute in an `MPI.COMM_WORLD` that includes all the MPI processes of a particular job allocation. "
   ]
  },
  {
   "cell_type": "code",
   "execution_count": null,
   "metadata": {},
   "outputs": [],
   "source": [
    "import sys\n",
    "from jobqueue_features.clusters import CustomSLURMCluster\n",
    "from jobqueue_features.decorators import on_cluster, mpi_task\n",
    "from jobqueue_features.mpi_wrapper import SRUN"
   ]
  },
  {
   "cell_type": "markdown",
   "metadata": {},
   "source": [
    "When using this mode, we need to tell the cluster what type of MPI launcher to use for the Dask worker task via the `mpi_launcher` kwarg"
   ]
  },
  {
   "cell_type": "code",
   "execution_count": null,
   "metadata": {},
   "outputs": [],
   "source": [
    "custom_cluster = CustomSLURMCluster(\n",
    "    name=\"mpiCluster\", walltime=\"00:03:00\", queue='devel', nodes=2, mpi_mode=True, mpi_launcher=SRUN\n",
    ")"
   ]
  },
  {
   "cell_type": "code",
   "execution_count": null,
   "metadata": {},
   "outputs": [],
   "source": [
    "@mpi_task(cluster_id=custom_cluster.name)\n",
    "def task1(task_name):\n",
    "    from mpi4py import MPI\n",
    "\n",
    "    comm = MPI.COMM_WORLD\n",
    "    size = comm.Get_size()\n",
    "    name = MPI.Get_processor_name()\n",
    "    all_nodes = comm.gather(name, root=0)\n",
    "    if all_nodes:\n",
    "        all_nodes = set(all_nodes)\n",
    "    else:\n",
    "        all_nodes = []\n",
    "    # Since it is a return  value it will only get printed by root\n",
    "    return_string = \"Running %d tasks of type %s on nodes %s.\" % (\n",
    "        size,\n",
    "        task_name,\n",
    "        all_nodes,\n",
    "    )\n",
    "    # The flush is required to ensure that the print statements appear in the job log\n",
    "    # files\n",
    "    print(return_string)\n",
    "    sys.stdout.flush()\n",
    "    return return_string"
   ]
  },
  {
   "cell_type": "code",
   "execution_count": null,
   "metadata": {},
   "outputs": [],
   "source": [
    "@mpi_task(cluster_id=custom_cluster.name)\n",
    "def task2(name, task_name=\"default\"):\n",
    "    from mpi4py import MPI\n",
    "\n",
    "    comm = MPI.COMM_WORLD\n",
    "    rank = comm.Get_rank()\n",
    "    # This only appears in the slurm job output\n",
    "    return_string = \"Hi %s, my rank is %d for task of type %s\" % (name, rank, task_name)\n",
    "    # The flush is required to ensure that the print statements appear in the job log\n",
    "    # files\n",
    "    print(return_string)\n",
    "    sys.stdout.flush()\n",
    "    return return_string"
   ]
  },
  {
   "cell_type": "code",
   "execution_count": null,
   "metadata": {},
   "outputs": [],
   "source": [
    "@on_cluster(cluster=custom_cluster, cluster_id=custom_cluster.name)\n",
    "def mpi_example():\n",
    "    t1 = task1(\"task1\")\n",
    "    t2 = task1(\"task1, 2nd iteration\")\n",
    "    t3 = task2(\"Alan\", task_name=\"Task 2\")\n",
    "    print(t1.result())\n",
    "    print(t2.result())\n",
    "    print(t3.result())"
   ]
  },
  {
   "cell_type": "code",
   "execution_count": null,
   "metadata": {},
   "outputs": [],
   "source": [
    "mpi_example()"
   ]
  },
  {
   "cell_type": "code",
   "execution_count": null,
   "metadata": {},
   "outputs": [],
   "source": []
  }
 ],
 "metadata": {
  "kernelspec": {
   "display_name": "jobqueue",
   "language": "python",
   "name": "jobqueue"
  },
  "language_info": {
   "codemirror_mode": {
    "name": "ipython",
    "version": 3
   },
   "file_extension": ".py",
   "mimetype": "text/x-python",
   "name": "python",
   "nbconvert_exporter": "python",
   "pygments_lexer": "ipython3",
   "version": "3.6.8"
  }
 },
 "nbformat": 4,
 "nbformat_minor": 2
}
