{
 "cells": [
  {
   "cell_type": "markdown",
   "metadata": {},
   "source": [
    "# MPI-aware tasks\n",
    "We would also like to be able to use tasks that are MPI-aware, and in that way we can directly access the memory-space of the tasks (and avoid the file-system). In this case the tasks will execute within the context of an MPI communicator (by default this is equivalent to `MPI.COMM_WORLD`) that includes all the MPI processes of a particular job allocation. "
   ]
  },
  {
   "cell_type": "code",
   "execution_count": null,
   "metadata": {},
   "outputs": [],
   "source": [
    "import sys\n",
    "from jobqueue_features.clusters import CustomSLURMCluster\n",
    "from jobqueue_features import (\n",
    "    on_cluster, \n",
    "    mpi_task, \n",
    "    get_task_mpi_comm\n",
    ")\n",
    "from jobqueue_features.clusters_controller import (\n",
    "    clusters_controller_singleton as controller,\n",
    ")"
   ]
  },
  {
   "cell_type": "markdown",
   "metadata": {},
   "source": [
    "Again, we need to tell the cluster that we need `mpi_mode` and give it enough information so that it can request the required resources."
   ]
  },
  {
   "cell_type": "code",
   "execution_count": null,
   "metadata": {},
   "outputs": [],
   "source": [
    "custom_cluster = CustomSLURMCluster(\n",
    "    name=\"mpiCluster\", mpi_mode=True, nodes=2,\n",
    ")"
   ]
  },
  {
   "cell_type": "markdown",
   "metadata": {},
   "source": [
    "Now let's define a couple of MPI-aware tasks that take different arguments.\n",
    "\n",
    "Note that we only import `mpi4py` within the context of the task. This is **important** since importing it into our notebook context will mess up our ability to use the remote MPI context."
   ]
  },
  {
   "cell_type": "markdown",
   "metadata": {},
   "source": [
    "Let's define one that takes an argument"
   ]
  },
  {
   "cell_type": "code",
   "execution_count": null,
   "metadata": {},
   "outputs": [],
   "source": [
    "@mpi_task(cluster=custom_cluster)\n",
    "def task1(task_name):\n",
    "    from mpi4py import MPI\n",
    "\n",
    "    comm = get_task_mpi_comm()\n",
    "    size = comm.Get_size()\n",
    "    name = MPI.Get_processor_name()\n",
    "    all_nodes = comm.gather(name, root=0)\n",
    "    if all_nodes:\n",
    "        all_nodes = set(all_nodes)\n",
    "    else:\n",
    "        all_nodes = []\n",
    "    # Since it is a return  value it will only get printed by root\n",
    "    return_string = \"Running %d tasks of type %s on nodes %s.\" % (\n",
    "        size,\n",
    "        task_name,\n",
    "        all_nodes,\n",
    "    )\n",
    "    # The flush is required to ensure that the print statements\n",
    "    # appear in the job log files\n",
    "    print(return_string)\n",
    "    sys.stdout.flush()\n",
    "    return return_string"
   ]
  },
  {
   "cell_type": "markdown",
   "metadata": {},
   "source": [
    "and another that takes and argument and a kwarg"
   ]
  },
  {
   "cell_type": "code",
   "execution_count": null,
   "metadata": {},
   "outputs": [],
   "source": [
    "@mpi_task(cluster=custom_cluster)\n",
    "def task2(name, task_name=\"default\"):\n",
    "    from mpi4py import MPI\n",
    "\n",
    "    comm = get_task_mpi_comm()\n",
    "    rank = comm.Get_rank()\n",
    "    # This only appears in the slurm job output\n",
    "    return_string = \"Hi %s, my rank is %d for task of type %s\" % (name, rank, task_name)\n",
    "    # The flush is required to ensure that the print statements appear in\n",
    "    # the job log files\n",
    "    print(return_string)\n",
    "    sys.stdout.flush()\n",
    "    return return_string"
   ]
  },
  {
   "cell_type": "markdown",
   "metadata": {},
   "source": [
    "Not let's run these tasks in the context of our cluster"
   ]
  },
  {
   "cell_type": "code",
   "execution_count": null,
   "metadata": {},
   "outputs": [],
   "source": [
    "@on_cluster(cluster=custom_cluster)\n",
    "def mpi_example():\n",
    "    t1 = task1(\"task1\")\n",
    "    t2 = task1(\"task1, 2nd iteration\")\n",
    "    t3 = task2(\"Alan\", task_name=\"Task 2\")\n",
    "    print(t1.result())\n",
    "    print(t2.result())\n",
    "    print(t3.result())"
   ]
  },
  {
   "cell_type": "code",
   "execution_count": null,
   "metadata": {},
   "outputs": [],
   "source": [
    "mpi_example()"
   ]
  },
  {
   "cell_type": "markdown",
   "metadata": {},
   "source": [
    "What about all the output from the other MPI ranks? Go take a look in the output file from SLURM."
   ]
  },
  {
   "cell_type": "markdown",
   "metadata": {},
   "source": [
    "Let's clean up after ourselves"
   ]
  },
  {
   "cell_type": "code",
   "execution_count": null,
   "metadata": {},
   "outputs": [],
   "source": [
    "controller._close()"
   ]
  },
  {
   "cell_type": "markdown",
   "metadata": {},
   "source": [
    "# Scaling up\n",
    "Let's define a new cluster that can scale and test out our scalability"
   ]
  },
  {
   "cell_type": "code",
   "execution_count": null,
   "metadata": {},
   "outputs": [],
   "source": [
    "mpi_multi_cluster = CustomSLURMCluster(\n",
    "    name=\"mpiMultiCluster\",\n",
    "    nodes=1,\n",
    "    maximum_jobs=2,\n",
    "    mpi_mode=True\n",
    ")"
   ]
  },
  {
   "cell_type": "markdown",
   "metadata": {},
   "source": [
    "Let's define a new task to run there."
   ]
  },
  {
   "cell_type": "code",
   "execution_count": null,
   "metadata": {},
   "outputs": [],
   "source": [
    "@on_cluster(cluster=mpi_multi_cluster)\n",
    "@mpi_task(cluster=mpi_multi_cluster)\n",
    "def task(task_name):\n",
    "    import time\n",
    "    from mpi4py import MPI\n",
    "\n",
    "    comm = get_task_mpi_comm()\n",
    "    size = comm.Get_size()\n",
    "    name = MPI.Get_processor_name()\n",
    "    all_nodes = comm.gather(name, root=0)\n",
    "    if all_nodes:\n",
    "        all_nodes = list(set(all_nodes))\n",
    "        all_nodes.sort()\n",
    "    else:\n",
    "        all_nodes = []\n",
    "    # Since it is a return  value it will only get printed by root\n",
    "    return_string = \"Running %d tasks of type %s on nodes %s.\" % (\n",
    "        size,\n",
    "        task_name,\n",
    "        all_nodes,\n",
    "    )\n",
    "\n",
    "    # Add a sleep to make the task substantial enough to require scaling\n",
    "    time.sleep(0.5)\n",
    "    return return_string"
   ]
  },
  {
   "cell_type": "markdown",
   "metadata": {},
   "source": [
    "Then check the execution of it:"
   ]
  },
  {
   "cell_type": "code",
   "execution_count": null,
   "metadata": {},
   "outputs": [],
   "source": [
    "from distributed import as_completed\n",
    "\n",
    "tasks = []\n",
    "for x in range(100):\n",
    "    tasks.append(\n",
    "        task(\"task-{}\".format(x))\n",
    "    )\n",
    "    \n",
    "c1_count = 0\n",
    "c2_count = 0\n",
    "for job in as_completed(tasks):\n",
    "    result = job.result()\n",
    "    job.cancel()\n",
    "    if 'c1' in result:\n",
    "        c1_count += 1\n",
    "    elif 'c2' in result:\n",
    "        c2_count += 1\n",
    "print(\"c1: {} \\nc2: {}\".format(c1_count, c2_count))"
   ]
  },
  {
   "cell_type": "markdown",
   "metadata": {},
   "source": [
    "Let's also clean up after ourselves"
   ]
  },
  {
   "cell_type": "code",
   "execution_count": null,
   "metadata": {},
   "outputs": [],
   "source": [
    "controller._close()"
   ]
  }
 ],
 "metadata": {
  "kernelspec": {
   "display_name": "Python 3",
   "language": "python",
   "name": "python3"
  },
  "language_info": {
   "codemirror_mode": {
    "name": "ipython",
    "version": 3
   },
   "file_extension": ".py",
   "mimetype": "text/x-python",
   "name": "python",
   "nbconvert_exporter": "python",
   "pygments_lexer": "ipython3",
   "version": "3.8.5"
  }
 },
 "nbformat": 4,
 "nbformat_minor": 4
}
